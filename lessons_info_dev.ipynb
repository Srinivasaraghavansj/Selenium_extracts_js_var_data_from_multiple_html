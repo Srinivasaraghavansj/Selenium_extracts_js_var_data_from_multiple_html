{
 "cells": [
  {
   "cell_type": "code",
   "execution_count": 1,
   "metadata": {},
   "outputs": [
    {
     "name": "stdout",
     "output_type": "stream",
     "text": [
      "Files: [91]\n",
      "\n"
     ]
    },
    {
     "name": "stderr",
     "output_type": "stream",
     "text": [
      "[WDM] - ====== WebDriver manager ======\n",
      "[WDM] - Current google-chrome version is 102.0.5005\n",
      "[WDM] - Get LATEST chromedriver version for 102.0.5005 google-chrome\n",
      "[WDM] - Driver [C:\\Users\\jyoth\\.wdm\\drivers\\chromedriver\\win32\\102.0.5005.61\\chromedriver.exe] found in cache\n",
      "C:\\Users\\jyoth\\AppData\\Local\\Temp/ipykernel_19772/3849129693.py:30: DeprecationWarning: executable_path has been deprecated, please pass in a Service object\n",
      "  driver = webdriver.Chrome(ChromeDriverManager().install())\n"
     ]
    },
    {
     "name": "stdout",
     "output_type": "stream",
     "text": [
      "Newav: file:/c:\\Users\\jyoth\\Downloads\\PYTHON MVP LESSONS 103 lessons (1)\\PYTHON MVP LESSONS\\Python Lessons/91.html\n",
      "[{'audio': '', 'code': 'a=10\\nb=50\\nc=4\\nif a>b &', 'file': '<p><span style=\"color: rgb(255, 255, 255); background-color: rgb(0, 0, 0); font-size: 24px;\">&amp; symbol can also be used for AND operator</span></p>', 'html': '<div id=\"tut1\" class=\"modal modal-fixed-footer transparent\">\\n        <div id=\"tut1_content\" class=\"modal-content center-align\"><p style=\\'margin-right:0cm;margin-left:0cm;font-size:16px;font-family:\"Calibri\",sans-serif;margin:0cm;margin-top:12.0pt;margin-bottom:12.0pt;\\'><span style=\"font-size: 24px; font-family: Calibri, sans-serif; color: rgb(239, 239, 239); background-color: rgb(0, 0, 0);\"><p><span style=\"color: rgb(255, 255, 255); background-color: rgb(0, 0, 0); font-size: 24px;\">&amp; symbol can also be used for AND operator</span></p></span></p></div>\\n        <div class=\"modal-footer transparent\"><a href=\"#!\" class=\"modal-close waves-effect waves-gray btn-flat white-text black\">Understood</a></div></div>', 'id': 'tut1', 'shown': False}]\n"
     ]
    }
   ],
   "source": [
    "from selenium import webdriver\n",
    "from webdriver_manager.chrome import ChromeDriverManager\n",
    "\n",
    "from time import sleep\n",
    "import os\n",
    "\n",
    "pred_guide = []\n",
    "files_ = []\n",
    "\n",
    "directory = os.getcwd()\n",
    "for root, dirnames, filenames in os.walk(directory):\n",
    "    for filename in filenames:\n",
    "        if filename.endswith('.html'):\n",
    "            a = filename.replace(\".html\",\"\")\n",
    "            try:\n",
    "                int(a)\n",
    "                files_.append(int(a))\n",
    "            except:\n",
    "                pass\n",
    "files_ = sorted(files_)\n",
    "lesson_number_above=90\n",
    "files_list = list(i for i in files_ if i > lesson_number_above)\n",
    "files_list = [8]\n",
    "print('Files:',files_list)\n",
    "with open(\"data.csv\", \"w+\", encoding='utf-8') as f:\n",
    "    # f.write(\"correct_answer,question,right_answer_message,wrong_answer_message,button_1_text,button_2_text\\n\")\n",
    "    # f.write(\"{\\n\")\n",
    "    # files_list = [2,3,4,9,10,12,13,14,15,16,17,20,24,25,28,29,30]\n",
    "\n",
    "    for i in files_list:\n",
    "        driver = webdriver.Chrome(ChromeDriverManager().install())\n",
    "        newav = r\"file://\" + os.getcwd() + \"/\" + str(i) + \".html\"\n",
    "        print(\"Newav:\",newav)\n",
    "        driver.get(newav)\n",
    "        sleep(2)\n",
    "\n",
    "        # correct_answer = driver.execute_script(\"\"\"return window.correct_answer\"\"\")\n",
    "        # print(\"correct_answer\",correct_answer)\n",
    "\n",
    "        # question = driver.execute_script(\"return question\")\n",
    "        # print(\"question\",question)\n",
    "\n",
    "        # right_answer_message = driver.execute_script(\"\"\"return window.right_answer_message\"\"\")\n",
    "        # print(\"right_answer_message\",right_answer_message)\n",
    "\n",
    "        # wrong_answer_message = driver.execute_script(\"\"\"return window.wrong_answer_message\"\"\")\n",
    "        # print(\"wrong_answer_message\",wrong_answer_message)\n",
    "\n",
    "        # button_1_text = driver.execute_script(\"\"\"return window.button_1_text\"\"\")\n",
    "        # print(\"button_1_text\",button_1_text)\n",
    "\n",
    "        # button_2_text = driver.execute_script(\"\"\"return window.button_2_text\"\"\")\n",
    "        # print(\"button_2_text\",button_2_text)\n",
    "\n",
    "        pred_guide = driver.execute_script(\"\"\"return pred_guide\"\"\")\n",
    "        print(pred_guide)\n",
    "\n",
    "        driver.close()\n",
    "        driver.quit()\n",
    "\n",
    "#         main_string = f\"\"\"{i}:{{\n",
    "# 'correct_answer' : {correct_answer},\n",
    "# 'question':`{question}`,\n",
    "# 'right_answer_message':`{right_answer_message}`,\n",
    "# 'wrong_answer_message':`{wrong_answer_message}`,\n",
    "# 'button_1_text':`{button_1_text}`,\n",
    "# 'button_2_text':`{button_2_text}`\n",
    "#         }},\"\"\"\n",
    "#         f.write(main_string)\n",
    "        # f.write(\",\".join([str(correct_answer),str(question),str(right_answer_message),str(wrong_answer_message),str(button_1_text),str(button_2_text)])+\"\\n\")\n",
    "\n",
    "    # f.write(\"\\n}\")"
   ]
  },
  {
   "cell_type": "code",
   "execution_count": 4,
   "metadata": {},
   "outputs": [
    {
     "data": {
      "text/plain": [
       "'<p><span style=\"color: rgb(255, 255, 255); background-color: rgb(0, 0, 0); font-size: 24px;\">&amp; symbol can also be used for AND operator</span></p>'"
      ]
     },
     "execution_count": 4,
     "metadata": {},
     "output_type": "execute_result"
    }
   ],
   "source": [
    "pred_guide[0]['file']\n"
   ]
  },
  {
   "cell_type": "code",
   "execution_count": 5,
   "metadata": {},
   "outputs": [
    {
     "name": "stdout",
     "output_type": "stream",
     "text": [
      "& symbol can also be used for AND operator\n"
     ]
    }
   ],
   "source": [
    "from bs4 import BeautifulSoup\n",
    "soup = BeautifulSoup(pred_guide[0]['file'])\n",
    "print(soup.get_text())"
   ]
  },
  {
   "cell_type": "code",
   "execution_count": 7,
   "metadata": {},
   "outputs": [
    {
     "data": {
      "text/plain": [
       "1"
      ]
     },
     "execution_count": 7,
     "metadata": {},
     "output_type": "execute_result"
    }
   ],
   "source": [
    "len(pred_guide)"
   ]
  },
  {
   "cell_type": "code",
   "execution_count": 15,
   "metadata": {},
   "outputs": [],
   "source": [
    "from selenium import webdriver\n",
    "from webdriver_manager.chrome import ChromeDriverManager\n",
    "from bs4 import BeautifulSoup\n",
    "from time import sleep\n",
    "import os\n",
    "import pandas as pd\n",
    "\n",
    "files_ = []\n",
    "data = []\n",
    "folders = [\n",
    "    \"Python Open Editor lessons\",\n",
    "    \"Python Predictive Lessons\",\n",
    "    \"Python Quiz based learning with maker\",\n",
    "    \"Python Turtle Open Editor Lessons\",\n",
    "    \"Python Turtle Predictive Lessons\",\n",
    "]\n",
    "\n",
    "for folder in folders:\n",
    "    directory = os.getcwd() + \"/\" + folder + \"/\"\n",
    "    for root, dirnames, filenames in os.walk(directory):\n",
    "        for filename in filenames:\n",
    "            if filename.endswith(\".html\"):\n",
    "                a = filename.replace(\".html\", \"\")\n",
    "                try:\n",
    "                    int(a)\n",
    "                    files_.append(int(a))\n",
    "                except:\n",
    "                    pass\n",
    "    files_ = sorted(files_)\n",
    "    lesson_number_above = -7\n",
    "    lesson_number_below = 2400\n",
    "    files_list = list(\n",
    "        i for i in files_ if (i > lesson_number_above and i < lesson_number_below)\n",
    "    )\n",
    "    for i in files_list:\n",
    "        if os.path.exists(str(directory + \"/\" + str(i) + \".html\")):\n",
    "            data.append([i,str(i) + \".html\", folder])\n",
    "df = pd.DataFrame(data, columns=[\"FN\",\"File name\", \"Folder\"])\n",
    "df = df.sort_values(by=[\"FN\"])\n",
    "df.reset_index(inplace=True)\n",
    "df.drop('index', inplace=True, axis=1)\n",
    "df.drop('FN', inplace=True, axis=1)\n",
    "df.to_excel(\"data.xlsx\", index=False)\n"
   ]
  },
  {
   "cell_type": "code",
   "execution_count": 12,
   "metadata": {},
   "outputs": [],
   "source": [
    "\n",
    "\n"
   ]
  },
  {
   "cell_type": "code",
   "execution_count": null,
   "metadata": {},
   "outputs": [],
   "source": []
  }
 ],
 "metadata": {
  "interpreter": {
   "hash": "fd0737d0ed3834169369995cf6511d2e41542fa3755bd59ab1f3f72b9c5fb6f9"
  },
  "kernelspec": {
   "display_name": "Python 3.9.7 ('wb')",
   "language": "python",
   "name": "python3"
  },
  "language_info": {
   "codemirror_mode": {
    "name": "ipython",
    "version": 3
   },
   "file_extension": ".py",
   "mimetype": "text/x-python",
   "name": "python",
   "nbconvert_exporter": "python",
   "pygments_lexer": "ipython3",
   "version": "3.9.7"
  },
  "orig_nbformat": 4
 },
 "nbformat": 4,
 "nbformat_minor": 2
}
